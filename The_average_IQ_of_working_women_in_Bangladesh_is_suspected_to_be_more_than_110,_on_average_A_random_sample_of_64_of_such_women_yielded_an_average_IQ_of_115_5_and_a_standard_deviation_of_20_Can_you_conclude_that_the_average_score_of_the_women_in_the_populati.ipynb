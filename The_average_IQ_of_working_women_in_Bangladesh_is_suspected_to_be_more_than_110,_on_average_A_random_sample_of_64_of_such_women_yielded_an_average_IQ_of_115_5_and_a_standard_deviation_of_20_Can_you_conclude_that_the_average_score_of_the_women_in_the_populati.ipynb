{
  "nbformat": 4,
  "nbformat_minor": 0,
  "metadata": {
    "colab": {
      "provenance": [],
      "authorship_tag": "ABX9TyMCtJpg048siOT4IbY4/5OI",
      "include_colab_link": true
    },
    "kernelspec": {
      "name": "python3",
      "display_name": "Python 3"
    },
    "language_info": {
      "name": "python"
    }
  },
  "cells": [
    {
      "cell_type": "markdown",
      "metadata": {
        "id": "view-in-github",
        "colab_type": "text"
      },
      "source": [
        "<a href=\"https://colab.research.google.com/github/inforahman1/Java-Networking/blob/master/The_average_IQ_of_working_women_in_Bangladesh_is_suspected_to_be_more_than_110%2C_on_average_A_random_sample_of_64_of_such_women_yielded_an_average_IQ_of_115_5_and_a_standard_deviation_of_20_Can_you_conclude_that_the_average_score_of_the_women_in_the_populati.ipynb\" target=\"_parent\"><img src=\"https://colab.research.google.com/assets/colab-badge.svg\" alt=\"Open In Colab\"/></a>"
      ]
    },
    {
      "cell_type": "code",
      "execution_count": 1,
      "metadata": {
        "id": "jfT8CXVi3l9l"
      },
      "outputs": [],
      "source": [
        "import scipy.stats as stats"
      ]
    },
    {
      "cell_type": "code",
      "source": [
        "sample_mean = 115.5"
      ],
      "metadata": {
        "id": "nUDrYwzp3y95"
      },
      "execution_count": 2,
      "outputs": []
    },
    {
      "cell_type": "code",
      "source": [
        "sample_std_dev = 20"
      ],
      "metadata": {
        "id": "OKMH3Qd235X_"
      },
      "execution_count": 3,
      "outputs": []
    },
    {
      "cell_type": "code",
      "source": [
        "sample_size = 64"
      ],
      "metadata": {
        "id": "-E_OY0lS4Acm"
      },
      "execution_count": 4,
      "outputs": []
    },
    {
      "cell_type": "code",
      "source": [
        "claimed_population_mean = 110"
      ],
      "metadata": {
        "id": "a3ij-hGM4MTG"
      },
      "execution_count": 5,
      "outputs": []
    },
    {
      "cell_type": "code",
      "source": [
        "significance_level = 0.05"
      ],
      "metadata": {
        "id": "cXOjo7Bt4VI3"
      },
      "execution_count": 6,
      "outputs": []
    },
    {
      "cell_type": "code",
      "source": [
        "# Calculate the t-statistic\n",
        "t_statistic = (sample_mean - claimed_population_mean) / (sample_std_dev / (sample_size**0.5))"
      ],
      "metadata": {
        "id": "YwhTpaQY4eGY"
      },
      "execution_count": 7,
      "outputs": []
    },
    {
      "cell_type": "code",
      "source": [
        "# Degrees of freedom\n",
        "degrees_of_freedom = sample_size - 1"
      ],
      "metadata": {
        "id": "pBlA1R8s49ma"
      },
      "execution_count": 8,
      "outputs": []
    },
    {
      "cell_type": "code",
      "source": [
        "# Calculate the critical t-value for a one-tailed test\n",
        "critical_t_value = stats.t.ppf(1 - significance_level, degrees_of_freedom)"
      ],
      "metadata": {
        "id": "t9K6oTSB5NEH"
      },
      "execution_count": 9,
      "outputs": []
    },
    {
      "cell_type": "code",
      "source": [
        "# Print the results\n",
        "print(\"T-Statistic:\", t_statistic)\n",
        "print(\"Critical T-Value:\", critical_t_value)"
      ],
      "metadata": {
        "colab": {
          "base_uri": "https://localhost:8080/"
        },
        "id": "NZznaUfK5pO_",
        "outputId": "2f24704e-0138-4aec-f853-c24fb2b1c12b"
      },
      "execution_count": 10,
      "outputs": [
        {
          "output_type": "stream",
          "name": "stdout",
          "text": [
            "T-Statistic: 2.2\n",
            "Critical T-Value: 1.6694022215079607\n"
          ]
        }
      ]
    },
    {
      "cell_type": "code",
      "source": [
        "# Compare the t-statistic with the critical t-value\n",
        "if t_statistic > critical_t_value:\n",
        "    print(\"Reject the null hypothesis. There is enough evidence to conclude that the averae IQ is more than 110\")\n",
        "else:\n",
        "    print(\"Fail to reject the null hypothesis. The sample does not provide enough evidence to conclude that the averae IQ is more than 110.\")"
      ],
      "metadata": {
        "colab": {
          "base_uri": "https://localhost:8080/"
        },
        "id": "zkUM5i8d5-lO",
        "outputId": "346e7468-5efe-4f00-d5d9-71b13f11b8da"
      },
      "execution_count": 11,
      "outputs": [
        {
          "output_type": "stream",
          "name": "stdout",
          "text": [
            "Reject the null hypothesis. There is enough evidence to conclude that the averae IQ is more than 110\n"
          ]
        }
      ]
    }
  ]
}