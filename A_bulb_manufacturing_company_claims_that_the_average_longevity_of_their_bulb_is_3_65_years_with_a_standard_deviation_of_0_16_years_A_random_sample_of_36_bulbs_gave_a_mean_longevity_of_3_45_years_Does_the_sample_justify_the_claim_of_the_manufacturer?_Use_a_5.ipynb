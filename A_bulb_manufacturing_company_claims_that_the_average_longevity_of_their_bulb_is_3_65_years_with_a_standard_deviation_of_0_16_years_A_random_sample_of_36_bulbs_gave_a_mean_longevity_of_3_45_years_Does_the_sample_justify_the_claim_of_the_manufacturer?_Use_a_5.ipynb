{
  "nbformat": 4,
  "nbformat_minor": 0,
  "metadata": {
    "colab": {
      "provenance": [],
      "authorship_tag": "ABX9TyMxpvWfqs8uFnOH5nF3Y8Km",
      "include_colab_link": true
    },
    "kernelspec": {
      "name": "python3",
      "display_name": "Python 3"
    },
    "language_info": {
      "name": "python"
    }
  },
  "cells": [
    {
      "cell_type": "markdown",
      "metadata": {
        "id": "view-in-github",
        "colab_type": "text"
      },
      "source": [
        "<a href=\"https://colab.research.google.com/github/inforahman1/Java-Networking/blob/master/A_bulb_manufacturing_company_claims_that_the_average_longevity_of_their_bulb_is_3_65_years_with_a_standard_deviation_of_0_16_years_A_random_sample_of_36_bulbs_gave_a_mean_longevity_of_3_45_years_Does_the_sample_justify_the_claim_of_the_manufacturer%3F_Use_a_5.ipynb\" target=\"_parent\"><img src=\"https://colab.research.google.com/assets/colab-badge.svg\" alt=\"Open In Colab\"/></a>"
      ]
    },
    {
      "cell_type": "code",
      "execution_count": 2,
      "metadata": {
        "id": "q1xhQG--xp9H"
      },
      "outputs": [],
      "source": [
        "import scipy.stats as stats"
      ]
    },
    {
      "cell_type": "code",
      "execution_count": 3,
      "metadata": {
        "id": "_WgzX-u0yTty"
      },
      "outputs": [],
      "source": [
        "claimed_mean = 3.65"
      ]
    },
    {
      "cell_type": "code",
      "source": [
        "sample_mean = 3.45"
      ],
      "metadata": {
        "id": "Y0KMhmKox5Yy"
      },
      "execution_count": 4,
      "outputs": []
    },
    {
      "cell_type": "code",
      "source": [
        "population_std_dev = 0.16"
      ],
      "metadata": {
        "id": "ixY98HS3zMh5"
      },
      "execution_count": 5,
      "outputs": []
    },
    {
      "cell_type": "code",
      "source": [
        "sample_size = 36"
      ],
      "metadata": {
        "id": "M-jI8dwRzSG3"
      },
      "execution_count": 6,
      "outputs": []
    },
    {
      "cell_type": "code",
      "source": [
        "significance_level = 0.05"
      ],
      "metadata": {
        "id": "Pxn4Z563zV1_"
      },
      "execution_count": 7,
      "outputs": []
    },
    {
      "cell_type": "code",
      "source": [
        "t_statistic = (sample_mean - claimed_mean) / (population_std_dev / (sample_size**0.5))"
      ],
      "metadata": {
        "id": "9tEKzJ2vzbWW"
      },
      "execution_count": 8,
      "outputs": []
    },
    {
      "cell_type": "code",
      "source": [
        "degrees_of_freedom = sample_size - 1"
      ],
      "metadata": {
        "id": "NypPynNU0waz"
      },
      "execution_count": 13,
      "outputs": []
    },
    {
      "cell_type": "code",
      "source": [
        "critical_t_value = stats.t.ppf(1 - significance_level / 2, degrees_of_freedom)"
      ],
      "metadata": {
        "id": "aa6KgDZi1CKg"
      },
      "execution_count": 14,
      "outputs": []
    },
    {
      "cell_type": "code",
      "source": [
        "print(\"T-statistic:\", t_statistic)"
      ],
      "metadata": {
        "colab": {
          "base_uri": "https://localhost:8080/"
        },
        "id": "9nVuBEeM1S4w",
        "outputId": "8242e42e-0763-47e1-acb6-28fcc0fa7e25"
      },
      "execution_count": 15,
      "outputs": [
        {
          "output_type": "stream",
          "name": "stdout",
          "text": [
            "T-statistic: -7.499999999999989\n"
          ]
        }
      ]
    },
    {
      "cell_type": "code",
      "source": [
        "print(\"Critical T-Value:\", critical_t_value)"
      ],
      "metadata": {
        "colab": {
          "base_uri": "https://localhost:8080/"
        },
        "id": "XSpYlKOy1fQ_",
        "outputId": "e6c32c10-8879-4796-d61d-00fcd67bc02b"
      },
      "execution_count": 16,
      "outputs": [
        {
          "output_type": "stream",
          "name": "stdout",
          "text": [
            "Critical T-Value: 2.0301079282503425\n"
          ]
        }
      ]
    },
    {
      "cell_type": "code",
      "source": [
        "# Compare the t-statistic with the critical t-value\n",
        "if abs(t_statistic) > critical_t_value:\n",
        "    print(\"Reject the null hypothesis. There is enough evidence to suggest that the average longevity is different from the manufacturer's claim.\")\n",
        "else:\n",
        "    print(\"Fail to reject the null hypothesis. The sample does not provide enough evidence to dispute the manufacturer's claim.\")"
      ],
      "metadata": {
        "colab": {
          "base_uri": "https://localhost:8080/"
        },
        "id": "mcHfFrcb1qxf",
        "outputId": "1701a48b-de02-4e61-dfdf-42bf823eda9a"
      },
      "execution_count": 20,
      "outputs": [
        {
          "output_type": "stream",
          "name": "stdout",
          "text": [
            "Reject the null hypothesis. There is enough evidence to suggest that the average longevity is different from the manufacturer's claim.\n"
          ]
        }
      ]
    }
  ]
}