{
  "nbformat": 4,
  "nbformat_minor": 0,
  "metadata": {
    "colab": {
      "provenance": [],
      "authorship_tag": "ABX9TyMjETvw5ttRB6MZ5sn+j7qj",
      "include_colab_link": true
    },
    "kernelspec": {
      "name": "python3",
      "display_name": "Python 3"
    },
    "language_info": {
      "name": "python"
    },
    "widgets": {
      "application/vnd.jupyter.widget-state+json": {
        "0797195b9e8a419d8f4e1f1594661f98": {
          "model_module": "@jupyter-widgets/controls",
          "model_name": "HBoxModel",
          "model_module_version": "1.5.0",
          "state": {
            "_dom_classes": [],
            "_model_module": "@jupyter-widgets/controls",
            "_model_module_version": "1.5.0",
            "_model_name": "HBoxModel",
            "_view_count": null,
            "_view_module": "@jupyter-widgets/controls",
            "_view_module_version": "1.5.0",
            "_view_name": "HBoxView",
            "box_style": "",
            "children": [
              "IPY_MODEL_ca5ee8abf485411b8ebbc1d38790a442",
              "IPY_MODEL_64c9053a96bc47a09e9fbc8e05ba8b79",
              "IPY_MODEL_041b74987fe2415aa2523f8911a6834e"
            ],
            "layout": "IPY_MODEL_7dfb71f4113541428831513c0a461ae8"
          }
        },
        "ca5ee8abf485411b8ebbc1d38790a442": {
          "model_module": "@jupyter-widgets/controls",
          "model_name": "HTMLModel",
          "model_module_version": "1.5.0",
          "state": {
            "_dom_classes": [],
            "_model_module": "@jupyter-widgets/controls",
            "_model_module_version": "1.5.0",
            "_model_name": "HTMLModel",
            "_view_count": null,
            "_view_module": "@jupyter-widgets/controls",
            "_view_module_version": "1.5.0",
            "_view_name": "HTMLView",
            "description": "",
            "description_tooltip": null,
            "layout": "IPY_MODEL_836cc209625e43179466813a16d35249",
            "placeholder": "​",
            "style": "IPY_MODEL_9c1d88903047433e8dadf685e656dc70",
            "value": "config.json: 100%"
          }
        },
        "64c9053a96bc47a09e9fbc8e05ba8b79": {
          "model_module": "@jupyter-widgets/controls",
          "model_name": "FloatProgressModel",
          "model_module_version": "1.5.0",
          "state": {
            "_dom_classes": [],
            "_model_module": "@jupyter-widgets/controls",
            "_model_module_version": "1.5.0",
            "_model_name": "FloatProgressModel",
            "_view_count": null,
            "_view_module": "@jupyter-widgets/controls",
            "_view_module_version": "1.5.0",
            "_view_name": "ProgressView",
            "bar_style": "success",
            "description": "",
            "description_tooltip": null,
            "layout": "IPY_MODEL_61eed0a8edb7419b8a85aca581db6b61",
            "max": 629,
            "min": 0,
            "orientation": "horizontal",
            "style": "IPY_MODEL_bce0feff585e49eb866c11cd81e6a7a0",
            "value": 629
          }
        },
        "041b74987fe2415aa2523f8911a6834e": {
          "model_module": "@jupyter-widgets/controls",
          "model_name": "HTMLModel",
          "model_module_version": "1.5.0",
          "state": {
            "_dom_classes": [],
            "_model_module": "@jupyter-widgets/controls",
            "_model_module_version": "1.5.0",
            "_model_name": "HTMLModel",
            "_view_count": null,
            "_view_module": "@jupyter-widgets/controls",
            "_view_module_version": "1.5.0",
            "_view_name": "HTMLView",
            "description": "",
            "description_tooltip": null,
            "layout": "IPY_MODEL_15d03512b6744ff393e9fb8c5304cb1b",
            "placeholder": "​",
            "style": "IPY_MODEL_937cb25583bd4cb4bfd585dd76d2da90",
            "value": " 629/629 [00:00&lt;00:00, 34.7kB/s]"
          }
        },
        "7dfb71f4113541428831513c0a461ae8": {
          "model_module": "@jupyter-widgets/base",
          "model_name": "LayoutModel",
          "model_module_version": "1.2.0",
          "state": {
            "_model_module": "@jupyter-widgets/base",
            "_model_module_version": "1.2.0",
            "_model_name": "LayoutModel",
            "_view_count": null,
            "_view_module": "@jupyter-widgets/base",
            "_view_module_version": "1.2.0",
            "_view_name": "LayoutView",
            "align_content": null,
            "align_items": null,
            "align_self": null,
            "border": null,
            "bottom": null,
            "display": null,
            "flex": null,
            "flex_flow": null,
            "grid_area": null,
            "grid_auto_columns": null,
            "grid_auto_flow": null,
            "grid_auto_rows": null,
            "grid_column": null,
            "grid_gap": null,
            "grid_row": null,
            "grid_template_areas": null,
            "grid_template_columns": null,
            "grid_template_rows": null,
            "height": null,
            "justify_content": null,
            "justify_items": null,
            "left": null,
            "margin": null,
            "max_height": null,
            "max_width": null,
            "min_height": null,
            "min_width": null,
            "object_fit": null,
            "object_position": null,
            "order": null,
            "overflow": null,
            "overflow_x": null,
            "overflow_y": null,
            "padding": null,
            "right": null,
            "top": null,
            "visibility": null,
            "width": null
          }
        },
        "836cc209625e43179466813a16d35249": {
          "model_module": "@jupyter-widgets/base",
          "model_name": "LayoutModel",
          "model_module_version": "1.2.0",
          "state": {
            "_model_module": "@jupyter-widgets/base",
            "_model_module_version": "1.2.0",
            "_model_name": "LayoutModel",
            "_view_count": null,
            "_view_module": "@jupyter-widgets/base",
            "_view_module_version": "1.2.0",
            "_view_name": "LayoutView",
            "align_content": null,
            "align_items": null,
            "align_self": null,
            "border": null,
            "bottom": null,
            "display": null,
            "flex": null,
            "flex_flow": null,
            "grid_area": null,
            "grid_auto_columns": null,
            "grid_auto_flow": null,
            "grid_auto_rows": null,
            "grid_column": null,
            "grid_gap": null,
            "grid_row": null,
            "grid_template_areas": null,
            "grid_template_columns": null,
            "grid_template_rows": null,
            "height": null,
            "justify_content": null,
            "justify_items": null,
            "left": null,
            "margin": null,
            "max_height": null,
            "max_width": null,
            "min_height": null,
            "min_width": null,
            "object_fit": null,
            "object_position": null,
            "order": null,
            "overflow": null,
            "overflow_x": null,
            "overflow_y": null,
            "padding": null,
            "right": null,
            "top": null,
            "visibility": null,
            "width": null
          }
        },
        "9c1d88903047433e8dadf685e656dc70": {
          "model_module": "@jupyter-widgets/controls",
          "model_name": "DescriptionStyleModel",
          "model_module_version": "1.5.0",
          "state": {
            "_model_module": "@jupyter-widgets/controls",
            "_model_module_version": "1.5.0",
            "_model_name": "DescriptionStyleModel",
            "_view_count": null,
            "_view_module": "@jupyter-widgets/base",
            "_view_module_version": "1.2.0",
            "_view_name": "StyleView",
            "description_width": ""
          }
        },
        "61eed0a8edb7419b8a85aca581db6b61": {
          "model_module": "@jupyter-widgets/base",
          "model_name": "LayoutModel",
          "model_module_version": "1.2.0",
          "state": {
            "_model_module": "@jupyter-widgets/base",
            "_model_module_version": "1.2.0",
            "_model_name": "LayoutModel",
            "_view_count": null,
            "_view_module": "@jupyter-widgets/base",
            "_view_module_version": "1.2.0",
            "_view_name": "LayoutView",
            "align_content": null,
            "align_items": null,
            "align_self": null,
            "border": null,
            "bottom": null,
            "display": null,
            "flex": null,
            "flex_flow": null,
            "grid_area": null,
            "grid_auto_columns": null,
            "grid_auto_flow": null,
            "grid_auto_rows": null,
            "grid_column": null,
            "grid_gap": null,
            "grid_row": null,
            "grid_template_areas": null,
            "grid_template_columns": null,
            "grid_template_rows": null,
            "height": null,
            "justify_content": null,
            "justify_items": null,
            "left": null,
            "margin": null,
            "max_height": null,
            "max_width": null,
            "min_height": null,
            "min_width": null,
            "object_fit": null,
            "object_position": null,
            "order": null,
            "overflow": null,
            "overflow_x": null,
            "overflow_y": null,
            "padding": null,
            "right": null,
            "top": null,
            "visibility": null,
            "width": null
          }
        },
        "bce0feff585e49eb866c11cd81e6a7a0": {
          "model_module": "@jupyter-widgets/controls",
          "model_name": "ProgressStyleModel",
          "model_module_version": "1.5.0",
          "state": {
            "_model_module": "@jupyter-widgets/controls",
            "_model_module_version": "1.5.0",
            "_model_name": "ProgressStyleModel",
            "_view_count": null,
            "_view_module": "@jupyter-widgets/base",
            "_view_module_version": "1.2.0",
            "_view_name": "StyleView",
            "bar_color": null,
            "description_width": ""
          }
        },
        "15d03512b6744ff393e9fb8c5304cb1b": {
          "model_module": "@jupyter-widgets/base",
          "model_name": "LayoutModel",
          "model_module_version": "1.2.0",
          "state": {
            "_model_module": "@jupyter-widgets/base",
            "_model_module_version": "1.2.0",
            "_model_name": "LayoutModel",
            "_view_count": null,
            "_view_module": "@jupyter-widgets/base",
            "_view_module_version": "1.2.0",
            "_view_name": "LayoutView",
            "align_content": null,
            "align_items": null,
            "align_self": null,
            "border": null,
            "bottom": null,
            "display": null,
            "flex": null,
            "flex_flow": null,
            "grid_area": null,
            "grid_auto_columns": null,
            "grid_auto_flow": null,
            "grid_auto_rows": null,
            "grid_column": null,
            "grid_gap": null,
            "grid_row": null,
            "grid_template_areas": null,
            "grid_template_columns": null,
            "grid_template_rows": null,
            "height": null,
            "justify_content": null,
            "justify_items": null,
            "left": null,
            "margin": null,
            "max_height": null,
            "max_width": null,
            "min_height": null,
            "min_width": null,
            "object_fit": null,
            "object_position": null,
            "order": null,
            "overflow": null,
            "overflow_x": null,
            "overflow_y": null,
            "padding": null,
            "right": null,
            "top": null,
            "visibility": null,
            "width": null
          }
        },
        "937cb25583bd4cb4bfd585dd76d2da90": {
          "model_module": "@jupyter-widgets/controls",
          "model_name": "DescriptionStyleModel",
          "model_module_version": "1.5.0",
          "state": {
            "_model_module": "@jupyter-widgets/controls",
            "_model_module_version": "1.5.0",
            "_model_name": "DescriptionStyleModel",
            "_view_count": null,
            "_view_module": "@jupyter-widgets/base",
            "_view_module_version": "1.2.0",
            "_view_name": "StyleView",
            "description_width": ""
          }
        },
        "c7e91ae1e85e48e5b3ea908e09af21dd": {
          "model_module": "@jupyter-widgets/controls",
          "model_name": "HBoxModel",
          "model_module_version": "1.5.0",
          "state": {
            "_dom_classes": [],
            "_model_module": "@jupyter-widgets/controls",
            "_model_module_version": "1.5.0",
            "_model_name": "HBoxModel",
            "_view_count": null,
            "_view_module": "@jupyter-widgets/controls",
            "_view_module_version": "1.5.0",
            "_view_name": "HBoxView",
            "box_style": "",
            "children": [
              "IPY_MODEL_549ee66260854ae8852b848384ebd34a",
              "IPY_MODEL_fa7536f5b3ac422fae4d2a3372ec6f7a",
              "IPY_MODEL_3292680c136c4f70b079bc32759a58f2"
            ],
            "layout": "IPY_MODEL_97bc028740f049f894a356395a574824"
          }
        },
        "549ee66260854ae8852b848384ebd34a": {
          "model_module": "@jupyter-widgets/controls",
          "model_name": "HTMLModel",
          "model_module_version": "1.5.0",
          "state": {
            "_dom_classes": [],
            "_model_module": "@jupyter-widgets/controls",
            "_model_module_version": "1.5.0",
            "_model_name": "HTMLModel",
            "_view_count": null,
            "_view_module": "@jupyter-widgets/controls",
            "_view_module_version": "1.5.0",
            "_view_name": "HTMLView",
            "description": "",
            "description_tooltip": null,
            "layout": "IPY_MODEL_b8a7869093b046db8d0730b7778489dc",
            "placeholder": "​",
            "style": "IPY_MODEL_3a43fc596bea45119ddc9618c1504b1d",
            "value": "model.safetensors: 100%"
          }
        },
        "fa7536f5b3ac422fae4d2a3372ec6f7a": {
          "model_module": "@jupyter-widgets/controls",
          "model_name": "FloatProgressModel",
          "model_module_version": "1.5.0",
          "state": {
            "_dom_classes": [],
            "_model_module": "@jupyter-widgets/controls",
            "_model_module_version": "1.5.0",
            "_model_name": "FloatProgressModel",
            "_view_count": null,
            "_view_module": "@jupyter-widgets/controls",
            "_view_module_version": "1.5.0",
            "_view_name": "ProgressView",
            "bar_style": "success",
            "description": "",
            "description_tooltip": null,
            "layout": "IPY_MODEL_2b263549f8044a53b6a2176bffc27330",
            "max": 267832558,
            "min": 0,
            "orientation": "horizontal",
            "style": "IPY_MODEL_bd16598983604ae1977c757a327afd57",
            "value": 267832558
          }
        },
        "3292680c136c4f70b079bc32759a58f2": {
          "model_module": "@jupyter-widgets/controls",
          "model_name": "HTMLModel",
          "model_module_version": "1.5.0",
          "state": {
            "_dom_classes": [],
            "_model_module": "@jupyter-widgets/controls",
            "_model_module_version": "1.5.0",
            "_model_name": "HTMLModel",
            "_view_count": null,
            "_view_module": "@jupyter-widgets/controls",
            "_view_module_version": "1.5.0",
            "_view_name": "HTMLView",
            "description": "",
            "description_tooltip": null,
            "layout": "IPY_MODEL_ce171b23e9aa47fab77ec8e5577b5380",
            "placeholder": "​",
            "style": "IPY_MODEL_1a7fe05d23384108b612dcc85d8f0463",
            "value": " 268M/268M [00:03&lt;00:00, 34.8MB/s]"
          }
        },
        "97bc028740f049f894a356395a574824": {
          "model_module": "@jupyter-widgets/base",
          "model_name": "LayoutModel",
          "model_module_version": "1.2.0",
          "state": {
            "_model_module": "@jupyter-widgets/base",
            "_model_module_version": "1.2.0",
            "_model_name": "LayoutModel",
            "_view_count": null,
            "_view_module": "@jupyter-widgets/base",
            "_view_module_version": "1.2.0",
            "_view_name": "LayoutView",
            "align_content": null,
            "align_items": null,
            "align_self": null,
            "border": null,
            "bottom": null,
            "display": null,
            "flex": null,
            "flex_flow": null,
            "grid_area": null,
            "grid_auto_columns": null,
            "grid_auto_flow": null,
            "grid_auto_rows": null,
            "grid_column": null,
            "grid_gap": null,
            "grid_row": null,
            "grid_template_areas": null,
            "grid_template_columns": null,
            "grid_template_rows": null,
            "height": null,
            "justify_content": null,
            "justify_items": null,
            "left": null,
            "margin": null,
            "max_height": null,
            "max_width": null,
            "min_height": null,
            "min_width": null,
            "object_fit": null,
            "object_position": null,
            "order": null,
            "overflow": null,
            "overflow_x": null,
            "overflow_y": null,
            "padding": null,
            "right": null,
            "top": null,
            "visibility": null,
            "width": null
          }
        },
        "b8a7869093b046db8d0730b7778489dc": {
          "model_module": "@jupyter-widgets/base",
          "model_name": "LayoutModel",
          "model_module_version": "1.2.0",
          "state": {
            "_model_module": "@jupyter-widgets/base",
            "_model_module_version": "1.2.0",
            "_model_name": "LayoutModel",
            "_view_count": null,
            "_view_module": "@jupyter-widgets/base",
            "_view_module_version": "1.2.0",
            "_view_name": "LayoutView",
            "align_content": null,
            "align_items": null,
            "align_self": null,
            "border": null,
            "bottom": null,
            "display": null,
            "flex": null,
            "flex_flow": null,
            "grid_area": null,
            "grid_auto_columns": null,
            "grid_auto_flow": null,
            "grid_auto_rows": null,
            "grid_column": null,
            "grid_gap": null,
            "grid_row": null,
            "grid_template_areas": null,
            "grid_template_columns": null,
            "grid_template_rows": null,
            "height": null,
            "justify_content": null,
            "justify_items": null,
            "left": null,
            "margin": null,
            "max_height": null,
            "max_width": null,
            "min_height": null,
            "min_width": null,
            "object_fit": null,
            "object_position": null,
            "order": null,
            "overflow": null,
            "overflow_x": null,
            "overflow_y": null,
            "padding": null,
            "right": null,
            "top": null,
            "visibility": null,
            "width": null
          }
        },
        "3a43fc596bea45119ddc9618c1504b1d": {
          "model_module": "@jupyter-widgets/controls",
          "model_name": "DescriptionStyleModel",
          "model_module_version": "1.5.0",
          "state": {
            "_model_module": "@jupyter-widgets/controls",
            "_model_module_version": "1.5.0",
            "_model_name": "DescriptionStyleModel",
            "_view_count": null,
            "_view_module": "@jupyter-widgets/base",
            "_view_module_version": "1.2.0",
            "_view_name": "StyleView",
            "description_width": ""
          }
        },
        "2b263549f8044a53b6a2176bffc27330": {
          "model_module": "@jupyter-widgets/base",
          "model_name": "LayoutModel",
          "model_module_version": "1.2.0",
          "state": {
            "_model_module": "@jupyter-widgets/base",
            "_model_module_version": "1.2.0",
            "_model_name": "LayoutModel",
            "_view_count": null,
            "_view_module": "@jupyter-widgets/base",
            "_view_module_version": "1.2.0",
            "_view_name": "LayoutView",
            "align_content": null,
            "align_items": null,
            "align_self": null,
            "border": null,
            "bottom": null,
            "display": null,
            "flex": null,
            "flex_flow": null,
            "grid_area": null,
            "grid_auto_columns": null,
            "grid_auto_flow": null,
            "grid_auto_rows": null,
            "grid_column": null,
            "grid_gap": null,
            "grid_row": null,
            "grid_template_areas": null,
            "grid_template_columns": null,
            "grid_template_rows": null,
            "height": null,
            "justify_content": null,
            "justify_items": null,
            "left": null,
            "margin": null,
            "max_height": null,
            "max_width": null,
            "min_height": null,
            "min_width": null,
            "object_fit": null,
            "object_position": null,
            "order": null,
            "overflow": null,
            "overflow_x": null,
            "overflow_y": null,
            "padding": null,
            "right": null,
            "top": null,
            "visibility": null,
            "width": null
          }
        },
        "bd16598983604ae1977c757a327afd57": {
          "model_module": "@jupyter-widgets/controls",
          "model_name": "ProgressStyleModel",
          "model_module_version": "1.5.0",
          "state": {
            "_model_module": "@jupyter-widgets/controls",
            "_model_module_version": "1.5.0",
            "_model_name": "ProgressStyleModel",
            "_view_count": null,
            "_view_module": "@jupyter-widgets/base",
            "_view_module_version": "1.2.0",
            "_view_name": "StyleView",
            "bar_color": null,
            "description_width": ""
          }
        },
        "ce171b23e9aa47fab77ec8e5577b5380": {
          "model_module": "@jupyter-widgets/base",
          "model_name": "LayoutModel",
          "model_module_version": "1.2.0",
          "state": {
            "_model_module": "@jupyter-widgets/base",
            "_model_module_version": "1.2.0",
            "_model_name": "LayoutModel",
            "_view_count": null,
            "_view_module": "@jupyter-widgets/base",
            "_view_module_version": "1.2.0",
            "_view_name": "LayoutView",
            "align_content": null,
            "align_items": null,
            "align_self": null,
            "border": null,
            "bottom": null,
            "display": null,
            "flex": null,
            "flex_flow": null,
            "grid_area": null,
            "grid_auto_columns": null,
            "grid_auto_flow": null,
            "grid_auto_rows": null,
            "grid_column": null,
            "grid_gap": null,
            "grid_row": null,
            "grid_template_areas": null,
            "grid_template_columns": null,
            "grid_template_rows": null,
            "height": null,
            "justify_content": null,
            "justify_items": null,
            "left": null,
            "margin": null,
            "max_height": null,
            "max_width": null,
            "min_height": null,
            "min_width": null,
            "object_fit": null,
            "object_position": null,
            "order": null,
            "overflow": null,
            "overflow_x": null,
            "overflow_y": null,
            "padding": null,
            "right": null,
            "top": null,
            "visibility": null,
            "width": null
          }
        },
        "1a7fe05d23384108b612dcc85d8f0463": {
          "model_module": "@jupyter-widgets/controls",
          "model_name": "DescriptionStyleModel",
          "model_module_version": "1.5.0",
          "state": {
            "_model_module": "@jupyter-widgets/controls",
            "_model_module_version": "1.5.0",
            "_model_name": "DescriptionStyleModel",
            "_view_count": null,
            "_view_module": "@jupyter-widgets/base",
            "_view_module_version": "1.2.0",
            "_view_name": "StyleView",
            "description_width": ""
          }
        },
        "a792cd26abae41c9b76396c075196c2a": {
          "model_module": "@jupyter-widgets/controls",
          "model_name": "HBoxModel",
          "model_module_version": "1.5.0",
          "state": {
            "_dom_classes": [],
            "_model_module": "@jupyter-widgets/controls",
            "_model_module_version": "1.5.0",
            "_model_name": "HBoxModel",
            "_view_count": null,
            "_view_module": "@jupyter-widgets/controls",
            "_view_module_version": "1.5.0",
            "_view_name": "HBoxView",
            "box_style": "",
            "children": [
              "IPY_MODEL_05aa2e3f6c1d4c6eacab0f534efd4701",
              "IPY_MODEL_048603f8d44745908ccc7f4f0c3bae25",
              "IPY_MODEL_c3905596e01c4e90b4b9a41dae130a3e"
            ],
            "layout": "IPY_MODEL_43076bdbdb9b449e8c3a575d019dda6d"
          }
        },
        "05aa2e3f6c1d4c6eacab0f534efd4701": {
          "model_module": "@jupyter-widgets/controls",
          "model_name": "HTMLModel",
          "model_module_version": "1.5.0",
          "state": {
            "_dom_classes": [],
            "_model_module": "@jupyter-widgets/controls",
            "_model_module_version": "1.5.0",
            "_model_name": "HTMLModel",
            "_view_count": null,
            "_view_module": "@jupyter-widgets/controls",
            "_view_module_version": "1.5.0",
            "_view_name": "HTMLView",
            "description": "",
            "description_tooltip": null,
            "layout": "IPY_MODEL_dc5f276660d74cb2855d2a92e419e22e",
            "placeholder": "​",
            "style": "IPY_MODEL_fff8d604c7f44a2d8dd25f60d2c51985",
            "value": "tokenizer_config.json: 100%"
          }
        },
        "048603f8d44745908ccc7f4f0c3bae25": {
          "model_module": "@jupyter-widgets/controls",
          "model_name": "FloatProgressModel",
          "model_module_version": "1.5.0",
          "state": {
            "_dom_classes": [],
            "_model_module": "@jupyter-widgets/controls",
            "_model_module_version": "1.5.0",
            "_model_name": "FloatProgressModel",
            "_view_count": null,
            "_view_module": "@jupyter-widgets/controls",
            "_view_module_version": "1.5.0",
            "_view_name": "ProgressView",
            "bar_style": "success",
            "description": "",
            "description_tooltip": null,
            "layout": "IPY_MODEL_f4930503b1a44a9a96afefb470926932",
            "max": 48,
            "min": 0,
            "orientation": "horizontal",
            "style": "IPY_MODEL_11fa7582007842179b8a03c3248524e4",
            "value": 48
          }
        },
        "c3905596e01c4e90b4b9a41dae130a3e": {
          "model_module": "@jupyter-widgets/controls",
          "model_name": "HTMLModel",
          "model_module_version": "1.5.0",
          "state": {
            "_dom_classes": [],
            "_model_module": "@jupyter-widgets/controls",
            "_model_module_version": "1.5.0",
            "_model_name": "HTMLModel",
            "_view_count": null,
            "_view_module": "@jupyter-widgets/controls",
            "_view_module_version": "1.5.0",
            "_view_name": "HTMLView",
            "description": "",
            "description_tooltip": null,
            "layout": "IPY_MODEL_9528bdc7c6ab4d79bbb70afb15e4ae73",
            "placeholder": "​",
            "style": "IPY_MODEL_6c97ce3f1b2a4f4fa171c457448cd1b8",
            "value": " 48.0/48.0 [00:00&lt;00:00, 2.48kB/s]"
          }
        },
        "43076bdbdb9b449e8c3a575d019dda6d": {
          "model_module": "@jupyter-widgets/base",
          "model_name": "LayoutModel",
          "model_module_version": "1.2.0",
          "state": {
            "_model_module": "@jupyter-widgets/base",
            "_model_module_version": "1.2.0",
            "_model_name": "LayoutModel",
            "_view_count": null,
            "_view_module": "@jupyter-widgets/base",
            "_view_module_version": "1.2.0",
            "_view_name": "LayoutView",
            "align_content": null,
            "align_items": null,
            "align_self": null,
            "border": null,
            "bottom": null,
            "display": null,
            "flex": null,
            "flex_flow": null,
            "grid_area": null,
            "grid_auto_columns": null,
            "grid_auto_flow": null,
            "grid_auto_rows": null,
            "grid_column": null,
            "grid_gap": null,
            "grid_row": null,
            "grid_template_areas": null,
            "grid_template_columns": null,
            "grid_template_rows": null,
            "height": null,
            "justify_content": null,
            "justify_items": null,
            "left": null,
            "margin": null,
            "max_height": null,
            "max_width": null,
            "min_height": null,
            "min_width": null,
            "object_fit": null,
            "object_position": null,
            "order": null,
            "overflow": null,
            "overflow_x": null,
            "overflow_y": null,
            "padding": null,
            "right": null,
            "top": null,
            "visibility": null,
            "width": null
          }
        },
        "dc5f276660d74cb2855d2a92e419e22e": {
          "model_module": "@jupyter-widgets/base",
          "model_name": "LayoutModel",
          "model_module_version": "1.2.0",
          "state": {
            "_model_module": "@jupyter-widgets/base",
            "_model_module_version": "1.2.0",
            "_model_name": "LayoutModel",
            "_view_count": null,
            "_view_module": "@jupyter-widgets/base",
            "_view_module_version": "1.2.0",
            "_view_name": "LayoutView",
            "align_content": null,
            "align_items": null,
            "align_self": null,
            "border": null,
            "bottom": null,
            "display": null,
            "flex": null,
            "flex_flow": null,
            "grid_area": null,
            "grid_auto_columns": null,
            "grid_auto_flow": null,
            "grid_auto_rows": null,
            "grid_column": null,
            "grid_gap": null,
            "grid_row": null,
            "grid_template_areas": null,
            "grid_template_columns": null,
            "grid_template_rows": null,
            "height": null,
            "justify_content": null,
            "justify_items": null,
            "left": null,
            "margin": null,
            "max_height": null,
            "max_width": null,
            "min_height": null,
            "min_width": null,
            "object_fit": null,
            "object_position": null,
            "order": null,
            "overflow": null,
            "overflow_x": null,
            "overflow_y": null,
            "padding": null,
            "right": null,
            "top": null,
            "visibility": null,
            "width": null
          }
        },
        "fff8d604c7f44a2d8dd25f60d2c51985": {
          "model_module": "@jupyter-widgets/controls",
          "model_name": "DescriptionStyleModel",
          "model_module_version": "1.5.0",
          "state": {
            "_model_module": "@jupyter-widgets/controls",
            "_model_module_version": "1.5.0",
            "_model_name": "DescriptionStyleModel",
            "_view_count": null,
            "_view_module": "@jupyter-widgets/base",
            "_view_module_version": "1.2.0",
            "_view_name": "StyleView",
            "description_width": ""
          }
        },
        "f4930503b1a44a9a96afefb470926932": {
          "model_module": "@jupyter-widgets/base",
          "model_name": "LayoutModel",
          "model_module_version": "1.2.0",
          "state": {
            "_model_module": "@jupyter-widgets/base",
            "_model_module_version": "1.2.0",
            "_model_name": "LayoutModel",
            "_view_count": null,
            "_view_module": "@jupyter-widgets/base",
            "_view_module_version": "1.2.0",
            "_view_name": "LayoutView",
            "align_content": null,
            "align_items": null,
            "align_self": null,
            "border": null,
            "bottom": null,
            "display": null,
            "flex": null,
            "flex_flow": null,
            "grid_area": null,
            "grid_auto_columns": null,
            "grid_auto_flow": null,
            "grid_auto_rows": null,
            "grid_column": null,
            "grid_gap": null,
            "grid_row": null,
            "grid_template_areas": null,
            "grid_template_columns": null,
            "grid_template_rows": null,
            "height": null,
            "justify_content": null,
            "justify_items": null,
            "left": null,
            "margin": null,
            "max_height": null,
            "max_width": null,
            "min_height": null,
            "min_width": null,
            "object_fit": null,
            "object_position": null,
            "order": null,
            "overflow": null,
            "overflow_x": null,
            "overflow_y": null,
            "padding": null,
            "right": null,
            "top": null,
            "visibility": null,
            "width": null
          }
        },
        "11fa7582007842179b8a03c3248524e4": {
          "model_module": "@jupyter-widgets/controls",
          "model_name": "ProgressStyleModel",
          "model_module_version": "1.5.0",
          "state": {
            "_model_module": "@jupyter-widgets/controls",
            "_model_module_version": "1.5.0",
            "_model_name": "ProgressStyleModel",
            "_view_count": null,
            "_view_module": "@jupyter-widgets/base",
            "_view_module_version": "1.2.0",
            "_view_name": "StyleView",
            "bar_color": null,
            "description_width": ""
          }
        },
        "9528bdc7c6ab4d79bbb70afb15e4ae73": {
          "model_module": "@jupyter-widgets/base",
          "model_name": "LayoutModel",
          "model_module_version": "1.2.0",
          "state": {
            "_model_module": "@jupyter-widgets/base",
            "_model_module_version": "1.2.0",
            "_model_name": "LayoutModel",
            "_view_count": null,
            "_view_module": "@jupyter-widgets/base",
            "_view_module_version": "1.2.0",
            "_view_name": "LayoutView",
            "align_content": null,
            "align_items": null,
            "align_self": null,
            "border": null,
            "bottom": null,
            "display": null,
            "flex": null,
            "flex_flow": null,
            "grid_area": null,
            "grid_auto_columns": null,
            "grid_auto_flow": null,
            "grid_auto_rows": null,
            "grid_column": null,
            "grid_gap": null,
            "grid_row": null,
            "grid_template_areas": null,
            "grid_template_columns": null,
            "grid_template_rows": null,
            "height": null,
            "justify_content": null,
            "justify_items": null,
            "left": null,
            "margin": null,
            "max_height": null,
            "max_width": null,
            "min_height": null,
            "min_width": null,
            "object_fit": null,
            "object_position": null,
            "order": null,
            "overflow": null,
            "overflow_x": null,
            "overflow_y": null,
            "padding": null,
            "right": null,
            "top": null,
            "visibility": null,
            "width": null
          }
        },
        "6c97ce3f1b2a4f4fa171c457448cd1b8": {
          "model_module": "@jupyter-widgets/controls",
          "model_name": "DescriptionStyleModel",
          "model_module_version": "1.5.0",
          "state": {
            "_model_module": "@jupyter-widgets/controls",
            "_model_module_version": "1.5.0",
            "_model_name": "DescriptionStyleModel",
            "_view_count": null,
            "_view_module": "@jupyter-widgets/base",
            "_view_module_version": "1.2.0",
            "_view_name": "StyleView",
            "description_width": ""
          }
        },
        "f0a357e227354c5198d2515a84f1aaaf": {
          "model_module": "@jupyter-widgets/controls",
          "model_name": "HBoxModel",
          "model_module_version": "1.5.0",
          "state": {
            "_dom_classes": [],
            "_model_module": "@jupyter-widgets/controls",
            "_model_module_version": "1.5.0",
            "_model_name": "HBoxModel",
            "_view_count": null,
            "_view_module": "@jupyter-widgets/controls",
            "_view_module_version": "1.5.0",
            "_view_name": "HBoxView",
            "box_style": "",
            "children": [
              "IPY_MODEL_e33098a57147487290e953ba3cb31a24",
              "IPY_MODEL_aa21d4cf8a1d4449998c6738c6cb1eba",
              "IPY_MODEL_fd50879ee122411e9ba439175c709da9"
            ],
            "layout": "IPY_MODEL_79d7faa59d314abd96a321d9554c811c"
          }
        },
        "e33098a57147487290e953ba3cb31a24": {
          "model_module": "@jupyter-widgets/controls",
          "model_name": "HTMLModel",
          "model_module_version": "1.5.0",
          "state": {
            "_dom_classes": [],
            "_model_module": "@jupyter-widgets/controls",
            "_model_module_version": "1.5.0",
            "_model_name": "HTMLModel",
            "_view_count": null,
            "_view_module": "@jupyter-widgets/controls",
            "_view_module_version": "1.5.0",
            "_view_name": "HTMLView",
            "description": "",
            "description_tooltip": null,
            "layout": "IPY_MODEL_efc57c3bbd9d4a619e5b9936ce771891",
            "placeholder": "​",
            "style": "IPY_MODEL_4b458da745e04322a7ad5a7dcc988d78",
            "value": "vocab.txt: 100%"
          }
        },
        "aa21d4cf8a1d4449998c6738c6cb1eba": {
          "model_module": "@jupyter-widgets/controls",
          "model_name": "FloatProgressModel",
          "model_module_version": "1.5.0",
          "state": {
            "_dom_classes": [],
            "_model_module": "@jupyter-widgets/controls",
            "_model_module_version": "1.5.0",
            "_model_name": "FloatProgressModel",
            "_view_count": null,
            "_view_module": "@jupyter-widgets/controls",
            "_view_module_version": "1.5.0",
            "_view_name": "ProgressView",
            "bar_style": "success",
            "description": "",
            "description_tooltip": null,
            "layout": "IPY_MODEL_e5b9b24de1584bcbafed89fe070e119a",
            "max": 231508,
            "min": 0,
            "orientation": "horizontal",
            "style": "IPY_MODEL_93a5c5d5af434a13966dcf51daa5fbf7",
            "value": 231508
          }
        },
        "fd50879ee122411e9ba439175c709da9": {
          "model_module": "@jupyter-widgets/controls",
          "model_name": "HTMLModel",
          "model_module_version": "1.5.0",
          "state": {
            "_dom_classes": [],
            "_model_module": "@jupyter-widgets/controls",
            "_model_module_version": "1.5.0",
            "_model_name": "HTMLModel",
            "_view_count": null,
            "_view_module": "@jupyter-widgets/controls",
            "_view_module_version": "1.5.0",
            "_view_name": "HTMLView",
            "description": "",
            "description_tooltip": null,
            "layout": "IPY_MODEL_e3543d4bb2354a2a8c1c7dc7fb4b200a",
            "placeholder": "​",
            "style": "IPY_MODEL_46eeae7ebd4b4b95a3cc617093176f03",
            "value": " 232k/232k [00:00&lt;00:00, 585kB/s]"
          }
        },
        "79d7faa59d314abd96a321d9554c811c": {
          "model_module": "@jupyter-widgets/base",
          "model_name": "LayoutModel",
          "model_module_version": "1.2.0",
          "state": {
            "_model_module": "@jupyter-widgets/base",
            "_model_module_version": "1.2.0",
            "_model_name": "LayoutModel",
            "_view_count": null,
            "_view_module": "@jupyter-widgets/base",
            "_view_module_version": "1.2.0",
            "_view_name": "LayoutView",
            "align_content": null,
            "align_items": null,
            "align_self": null,
            "border": null,
            "bottom": null,
            "display": null,
            "flex": null,
            "flex_flow": null,
            "grid_area": null,
            "grid_auto_columns": null,
            "grid_auto_flow": null,
            "grid_auto_rows": null,
            "grid_column": null,
            "grid_gap": null,
            "grid_row": null,
            "grid_template_areas": null,
            "grid_template_columns": null,
            "grid_template_rows": null,
            "height": null,
            "justify_content": null,
            "justify_items": null,
            "left": null,
            "margin": null,
            "max_height": null,
            "max_width": null,
            "min_height": null,
            "min_width": null,
            "object_fit": null,
            "object_position": null,
            "order": null,
            "overflow": null,
            "overflow_x": null,
            "overflow_y": null,
            "padding": null,
            "right": null,
            "top": null,
            "visibility": null,
            "width": null
          }
        },
        "efc57c3bbd9d4a619e5b9936ce771891": {
          "model_module": "@jupyter-widgets/base",
          "model_name": "LayoutModel",
          "model_module_version": "1.2.0",
          "state": {
            "_model_module": "@jupyter-widgets/base",
            "_model_module_version": "1.2.0",
            "_model_name": "LayoutModel",
            "_view_count": null,
            "_view_module": "@jupyter-widgets/base",
            "_view_module_version": "1.2.0",
            "_view_name": "LayoutView",
            "align_content": null,
            "align_items": null,
            "align_self": null,
            "border": null,
            "bottom": null,
            "display": null,
            "flex": null,
            "flex_flow": null,
            "grid_area": null,
            "grid_auto_columns": null,
            "grid_auto_flow": null,
            "grid_auto_rows": null,
            "grid_column": null,
            "grid_gap": null,
            "grid_row": null,
            "grid_template_areas": null,
            "grid_template_columns": null,
            "grid_template_rows": null,
            "height": null,
            "justify_content": null,
            "justify_items": null,
            "left": null,
            "margin": null,
            "max_height": null,
            "max_width": null,
            "min_height": null,
            "min_width": null,
            "object_fit": null,
            "object_position": null,
            "order": null,
            "overflow": null,
            "overflow_x": null,
            "overflow_y": null,
            "padding": null,
            "right": null,
            "top": null,
            "visibility": null,
            "width": null
          }
        },
        "4b458da745e04322a7ad5a7dcc988d78": {
          "model_module": "@jupyter-widgets/controls",
          "model_name": "DescriptionStyleModel",
          "model_module_version": "1.5.0",
          "state": {
            "_model_module": "@jupyter-widgets/controls",
            "_model_module_version": "1.5.0",
            "_model_name": "DescriptionStyleModel",
            "_view_count": null,
            "_view_module": "@jupyter-widgets/base",
            "_view_module_version": "1.2.0",
            "_view_name": "StyleView",
            "description_width": ""
          }
        },
        "e5b9b24de1584bcbafed89fe070e119a": {
          "model_module": "@jupyter-widgets/base",
          "model_name": "LayoutModel",
          "model_module_version": "1.2.0",
          "state": {
            "_model_module": "@jupyter-widgets/base",
            "_model_module_version": "1.2.0",
            "_model_name": "LayoutModel",
            "_view_count": null,
            "_view_module": "@jupyter-widgets/base",
            "_view_module_version": "1.2.0",
            "_view_name": "LayoutView",
            "align_content": null,
            "align_items": null,
            "align_self": null,
            "border": null,
            "bottom": null,
            "display": null,
            "flex": null,
            "flex_flow": null,
            "grid_area": null,
            "grid_auto_columns": null,
            "grid_auto_flow": null,
            "grid_auto_rows": null,
            "grid_column": null,
            "grid_gap": null,
            "grid_row": null,
            "grid_template_areas": null,
            "grid_template_columns": null,
            "grid_template_rows": null,
            "height": null,
            "justify_content": null,
            "justify_items": null,
            "left": null,
            "margin": null,
            "max_height": null,
            "max_width": null,
            "min_height": null,
            "min_width": null,
            "object_fit": null,
            "object_position": null,
            "order": null,
            "overflow": null,
            "overflow_x": null,
            "overflow_y": null,
            "padding": null,
            "right": null,
            "top": null,
            "visibility": null,
            "width": null
          }
        },
        "93a5c5d5af434a13966dcf51daa5fbf7": {
          "model_module": "@jupyter-widgets/controls",
          "model_name": "ProgressStyleModel",
          "model_module_version": "1.5.0",
          "state": {
            "_model_module": "@jupyter-widgets/controls",
            "_model_module_version": "1.5.0",
            "_model_name": "ProgressStyleModel",
            "_view_count": null,
            "_view_module": "@jupyter-widgets/base",
            "_view_module_version": "1.2.0",
            "_view_name": "StyleView",
            "bar_color": null,
            "description_width": ""
          }
        },
        "e3543d4bb2354a2a8c1c7dc7fb4b200a": {
          "model_module": "@jupyter-widgets/base",
          "model_name": "LayoutModel",
          "model_module_version": "1.2.0",
          "state": {
            "_model_module": "@jupyter-widgets/base",
            "_model_module_version": "1.2.0",
            "_model_name": "LayoutModel",
            "_view_count": null,
            "_view_module": "@jupyter-widgets/base",
            "_view_module_version": "1.2.0",
            "_view_name": "LayoutView",
            "align_content": null,
            "align_items": null,
            "align_self": null,
            "border": null,
            "bottom": null,
            "display": null,
            "flex": null,
            "flex_flow": null,
            "grid_area": null,
            "grid_auto_columns": null,
            "grid_auto_flow": null,
            "grid_auto_rows": null,
            "grid_column": null,
            "grid_gap": null,
            "grid_row": null,
            "grid_template_areas": null,
            "grid_template_columns": null,
            "grid_template_rows": null,
            "height": null,
            "justify_content": null,
            "justify_items": null,
            "left": null,
            "margin": null,
            "max_height": null,
            "max_width": null,
            "min_height": null,
            "min_width": null,
            "object_fit": null,
            "object_position": null,
            "order": null,
            "overflow": null,
            "overflow_x": null,
            "overflow_y": null,
            "padding": null,
            "right": null,
            "top": null,
            "visibility": null,
            "width": null
          }
        },
        "46eeae7ebd4b4b95a3cc617093176f03": {
          "model_module": "@jupyter-widgets/controls",
          "model_name": "DescriptionStyleModel",
          "model_module_version": "1.5.0",
          "state": {
            "_model_module": "@jupyter-widgets/controls",
            "_model_module_version": "1.5.0",
            "_model_name": "DescriptionStyleModel",
            "_view_count": null,
            "_view_module": "@jupyter-widgets/base",
            "_view_module_version": "1.2.0",
            "_view_name": "StyleView",
            "description_width": ""
          }
        }
      }
    }
  },
  "cells": [
    {
      "cell_type": "markdown",
      "metadata": {
        "id": "view-in-github",
        "colab_type": "text"
      },
      "source": [
        "<a href=\"https://colab.research.google.com/github/inforahman1/Java-Networking/blob/master/Copy_of_Sentiment_analysis_by_NLP.ipynb\" target=\"_parent\"><img src=\"https://colab.research.google.com/assets/colab-badge.svg\" alt=\"Open In Colab\"/></a>"
      ]
    },
    {
      "cell_type": "code",
      "source": [
        "!pip install requests BeautifulSoup4 nltk transformers"
      ],
      "metadata": {
        "colab": {
          "base_uri": "https://localhost:8080/"
        },
        "id": "TYe9qJFi7YF1",
        "outputId": "dcdf1d7b-f2af-4efa-b83e-079d6d8ab4a4"
      },
      "execution_count": null,
      "outputs": [
        {
          "output_type": "stream",
          "name": "stdout",
          "text": [
            "Requirement already satisfied: requests in /usr/local/lib/python3.10/dist-packages (2.32.3)\n",
            "Requirement already satisfied: BeautifulSoup4 in /usr/local/lib/python3.10/dist-packages (4.12.3)\n",
            "Requirement already satisfied: nltk in /usr/local/lib/python3.10/dist-packages (3.8.1)\n",
            "Requirement already satisfied: transformers in /usr/local/lib/python3.10/dist-packages (4.44.2)\n",
            "Requirement already satisfied: charset-normalizer<4,>=2 in /usr/local/lib/python3.10/dist-packages (from requests) (3.3.2)\n",
            "Requirement already satisfied: idna<4,>=2.5 in /usr/local/lib/python3.10/dist-packages (from requests) (3.10)\n",
            "Requirement already satisfied: urllib3<3,>=1.21.1 in /usr/local/lib/python3.10/dist-packages (from requests) (2.2.3)\n",
            "Requirement already satisfied: certifi>=2017.4.17 in /usr/local/lib/python3.10/dist-packages (from requests) (2024.8.30)\n",
            "Requirement already satisfied: soupsieve>1.2 in /usr/local/lib/python3.10/dist-packages (from BeautifulSoup4) (2.6)\n",
            "Requirement already satisfied: click in /usr/local/lib/python3.10/dist-packages (from nltk) (8.1.7)\n",
            "Requirement already satisfied: joblib in /usr/local/lib/python3.10/dist-packages (from nltk) (1.4.2)\n",
            "Requirement already satisfied: regex>=2021.8.3 in /usr/local/lib/python3.10/dist-packages (from nltk) (2024.9.11)\n",
            "Requirement already satisfied: tqdm in /usr/local/lib/python3.10/dist-packages (from nltk) (4.66.5)\n",
            "Requirement already satisfied: filelock in /usr/local/lib/python3.10/dist-packages (from transformers) (3.16.1)\n",
            "Requirement already satisfied: huggingface-hub<1.0,>=0.23.2 in /usr/local/lib/python3.10/dist-packages (from transformers) (0.24.7)\n",
            "Requirement already satisfied: numpy>=1.17 in /usr/local/lib/python3.10/dist-packages (from transformers) (1.26.4)\n",
            "Requirement already satisfied: packaging>=20.0 in /usr/local/lib/python3.10/dist-packages (from transformers) (24.1)\n",
            "Requirement already satisfied: pyyaml>=5.1 in /usr/local/lib/python3.10/dist-packages (from transformers) (6.0.2)\n",
            "Requirement already satisfied: safetensors>=0.4.1 in /usr/local/lib/python3.10/dist-packages (from transformers) (0.4.5)\n",
            "Requirement already satisfied: tokenizers<0.20,>=0.19 in /usr/local/lib/python3.10/dist-packages (from transformers) (0.19.1)\n",
            "Requirement already satisfied: fsspec>=2023.5.0 in /usr/local/lib/python3.10/dist-packages (from huggingface-hub<1.0,>=0.23.2->transformers) (2024.6.1)\n",
            "Requirement already satisfied: typing-extensions>=3.7.4.3 in /usr/local/lib/python3.10/dist-packages (from huggingface-hub<1.0,>=0.23.2->transformers) (4.12.2)\n"
          ]
        }
      ]
    },
    {
      "cell_type": "code",
      "source": [
        "import requests\n",
        "from bs4 import BeautifulSoup\n",
        "import nltk\n",
        "from transformers import pipeline\n",
        "from nltk.tokenize import word_tokenize\n",
        "from nltk.corpus import stopwords\n",
        "import string"
      ],
      "metadata": {
        "id": "owZEpESq7lUV"
      },
      "execution_count": null,
      "outputs": []
    },
    {
      "cell_type": "markdown",
      "source": [
        "Download NLTK stopwords"
      ],
      "metadata": {
        "id": "LfQZvMrQ8IOc"
      }
    },
    {
      "cell_type": "code",
      "source": [
        "nltk.download('stopwords')"
      ],
      "metadata": {
        "colab": {
          "base_uri": "https://localhost:8080/"
        },
        "id": "6Yj0Os4d8K89",
        "outputId": "420dfe16-f0da-4464-f8bb-532c8cf4f422"
      },
      "execution_count": null,
      "outputs": [
        {
          "output_type": "stream",
          "name": "stderr",
          "text": [
            "[nltk_data] Downloading package stopwords to /root/nltk_data...\n",
            "[nltk_data]   Package stopwords is already up-to-date!\n"
          ]
        },
        {
          "output_type": "execute_result",
          "data": {
            "text/plain": [
              "True"
            ]
          },
          "metadata": {},
          "execution_count": 77
        }
      ]
    },
    {
      "cell_type": "markdown",
      "source": [
        "Scrape the article text from the given URL"
      ],
      "metadata": {
        "id": "SMle3hjd8N5M"
      }
    },
    {
      "cell_type": "code",
      "source": [
        "def scrape_article_text(url):\n",
        "    response = requests.get(url)\n",
        "    soup = BeautifulSoup(response.text, 'html.parser')\n",
        "\n",
        "    paragraphs = soup.find_all('p')\n",
        "    article_text = ' '.join([p.get_text() for p in paragraphs])\n",
        "\n",
        "    return article_text"
      ],
      "metadata": {
        "id": "MgvDf-dp8UTj"
      },
      "execution_count": null,
      "outputs": []
    },
    {
      "cell_type": "markdown",
      "source": [
        "Preprocess the text"
      ],
      "metadata": {
        "id": "A6QGI15a8dNc"
      }
    },
    {
      "cell_type": "code",
      "source": [
        "def preprocess_text(text):\n",
        "  text = text.lower() #Convert to lowercase\n",
        "  text = text.translate(str.maketrans('', '', string.punctuation)) #Remove punctuation\n",
        "  words = word_tokenize(text) # Tokenize words\n",
        "  words = [word for word in words if word not in stopwords.words('english')] #Remove stopwords\n",
        "  return ' '.join(words)"
      ],
      "metadata": {
        "id": "4Y6Rt3mx9wjb"
      },
      "execution_count": null,
      "outputs": []
    },
    {
      "cell_type": "markdown",
      "source": [
        "Perform Summarization using HuggingFace transformers"
      ],
      "metadata": {
        "id": "qHKjU5r6-YWU"
      }
    },
    {
      "cell_type": "code",
      "source": [
        "def summarize_text(text):\n",
        "    summarizer = pipeline(\"summarization\")\n",
        "    summary = summarizer(text, max_length=150, min_length=30, do_sample=False)\n",
        "    return summary[0]['summary_text']"
      ],
      "metadata": {
        "id": "3S8zotm--ma9"
      },
      "execution_count": null,
      "outputs": []
    },
    {
      "cell_type": "markdown",
      "source": [
        "Perform Sentiment Analysis using HuggingFace transformers"
      ],
      "metadata": {
        "id": "5hZMPhBI-veT"
      }
    },
    {
      "cell_type": "code",
      "source": [
        "def sentiment_analysis(text):\n",
        "    sentiment_analysis = pipeline(\"sentiment-analysis\")\n",
        "    sentiment = sentiment_analysis(text[:512])\n",
        "    return sentiment"
      ],
      "metadata": {
        "id": "KG1fPr0A-097"
      },
      "execution_count": null,
      "outputs": []
    },
    {
      "cell_type": "markdown",
      "source": [
        "Main Code"
      ],
      "metadata": {
        "id": "flauwn0e_Ro7"
      }
    },
    {
      "cell_type": "code",
      "source": [
        "url = 'https://www.prothomalo.com/world/india/nw6cj71eah'"
      ],
      "metadata": {
        "id": "X93P3Um0_ThD"
      },
      "execution_count": null,
      "outputs": []
    },
    {
      "cell_type": "markdown",
      "source": [
        "Step 1 : Scrape the article from the website"
      ],
      "metadata": {
        "id": "ntT6uRLh_cnu"
      }
    },
    {
      "cell_type": "code",
      "source": [
        "article_text = scrape_article_text(url)\n",
        "print(\"Original Article Text:\\n\", article_text)"
      ],
      "metadata": {
        "colab": {
          "base_uri": "https://localhost:8080/"
        },
        "id": "9rVS29vZ_iXj",
        "outputId": "6e55ffb4-7d9f-44be-c9a3-0a92c0fafc8d"
      },
      "execution_count": null,
      "outputs": [
        {
          "output_type": "stream",
          "name": "stdout",
          "text": [
            "Original Article Text:\n",
            " বাংলাদেশ ও শ্রীলঙ্কার সঙ্গে ভারতের সম্পর্ক ‘ইতিবাচক ও গঠনমূলকই’ থাকবে। এই সম্পর্ক নিয়ে আগে থেকে কিছু ভেবে নেওয়া ঠিক হবে না। তেমন ভাবনা কারও ভাবা উচিত নয় বলে মন্তব্য করেছেন ভারতের পররাষ্ট্রমন্ত্রী এস জয়শঙ্কর। নিউইয়র্কে স্থানীয় সময় গতকাল মঙ্গলবার এক অনুষ্ঠানের পর সাংবাদিকদের সঙ্গে কথা আলাপচারিতায় এই অভিমত ব্যক্ত করেন জয়শঙ্কর। তিনি বলেন, ‘সম্পর্ক নিয়ে আগাম কোনো ধারণায় উপনীত না হওয়ার অনুরোধ আমি সবাইকে করব। বিষয়টা এমন নয় যে ভারত তার সব প্রতিবেশী দেশের রাজনীতি নিয়ন্ত্রণ করতে চাইছে। এভাবে চলেও না। এমনটা হয়ও না। এটা শুধু আমাদের (ভারত) নয়, সবার জন্য সমান সত্য।’ এশিয়াটিক সোসাইটি ও নিউইয়র্কের এশিয়া সোসাইটি পলিসি ইনস্টিটিউট গতকাল ‘ইন্ডিয়া, এশিয়া অ্যান্ড দ্য ওয়ার্ল্ড’ নামে এক আলোচনা সভার আয়োজন করে। সেখানে অংশ নেন এস জয়শঙ্কর। ভারতীয় সংবাদমাধ্যম পিটিআইয়ের তথ্য অনুযায়ী, জয়শঙ্কর সাংবাদিকদের সঙ্গে কথাও বলেন সেখানেই। জয়শঙ্করকে একজন বলেন, বাংলাদেশ ও শ্রীলঙ্কাকে ভারত শর্তহীন সাহায্য করেছে। ঋণ দিয়েছে। কিন্তু সেখানকার নতুন পরিবর্তিত সরকার মনে হচ্ছে ভারতবিরোধী। এর জবাবে ভারতের পররাষ্ট্রমন্ত্রী বলেন, ‘দিনের শেষে প্রতিটি প্রতিবেশীই তার নিজস্ব গতিতে নিজস্ব চিন্তাধারায় চলবে। আমরা তাদের বলব না যে তোমাদের প্রবাহ আমাদের পছন্দ অনুযায়ী হোক। তেমন বলা আমাদের ইচ্ছাও নয়। আজকের দুনিয়ায় এটাই সত্য। প্রতিটি দেশই নিজের পছন্দ অনুযায়ী নীতি ঠিক করে। অন্যদের সেই মতো বোঝাপড়া করতে হয়। সেইভাবে এগোতে হয়।’ এ প্রসঙ্গেই বাংলাদেশের সাম্প্রতিক ঘটনাবলির কথা ওঠে। জয়শঙ্কর বলেন, ‘অন্যদের থেকে বাংলাদেশের বিষয়টি একটু আলাদা। এক দশক ধরে আমরা ওই দেশে বহু প্রকল্প হাতে নিয়েছি। সেসব প্রকল্প দুই দেশের পক্ষেই মঙ্গলজনক ও ফলদায়ী। তাতে অর্থনীতি চাঙা হয়েছে। অবকাঠামোরও উন্নতি হয়েছে।’ জয়শঙ্কর এ কথা বলেন বাংলাদেশের অন্তর্বর্তীকালীন সরকারের পররাষ্ট্র উপদেষ্টা তৌহিদ হোসেনের সঙ্গে প্রথম বৈঠকের পর। বাংলাদেশ ও ভারতের কূটনৈতিক সূত্রগুলো ওই বৈঠককে কার্যকর, ইতিবাচক ও গঠনমূলক হিসেবে বর্ণনা করেছে। জয়শঙ্কর বলেন, প্রতিটি দেশের নিজের একটা গতি থাকে। পছন্দ থাকে, প্রয়োজন থাকে। নিজস্ব ‘ডায়নামিকস’ থাকে। কূটনীতিতে তা বুঝতে ও শিখতে হয় এবং সেই মতো সাড়া দিতে হয়। তিনি বলেন, ‘আমার দৃঢ় বিশ্বাস, দিনের শেষে পারস্পরিক নির্ভরতা, একে অন্যের সঙ্গে হাত ধরাধরি করে থাকা, পারস্পরিক উপকারের বাস্তবিকতা আমরা প্রতিবেশীরা সবাই উপলব্ধি করতে পারব। এতেই সবার স্বার্থ নিহিত। বাস্তবিকতাই সম্পর্কের গতি প্রকৃতি ঠিক করে দেয়। ইতিহাসের শিক্ষা তেমনই।’ পররাষ্ট্রমন্ত্রী জয়শঙ্কর বলেন, ‘কয়েক বছর অন্তর আমাদের এই অঞ্চলে কিছু না কিছু ঘটে থাকে। তখন মনে হয় যা–ই ঘটছে, তা অলঙ্ঘনীয়। অথচ দেখা যায়, পরিবর্তন এল। শোধরানোর পালা শুরু হলো। নতুন কিছু ঘটল। এই আলোতেই আমি বর্তমান ঘটনাবলি দেখি। আমি দৃঢ় নিশ্চিত, দুই ক্ষেত্রেই (বাংলাদেশ ও শ্রীলঙ্কা) আমাদের সম্পর্ক এগিয়ে যাবে ইতিবাচক ও গঠনমূলকভাবে।’ শ্রীলঙ্কা প্রসঙ্গে জয়শঙ্কর বলেন, তীব্র অর্থনৈতিক সংকটের সময় কেউ যখন এগোয়নি, তখন ভারত এগিয়ে গিয়েছিল। সাড়ে চার বিলিয়ন ডলার সাহায্য করেছিল অর্থনীতি স্থিতিশীল করতে। বাকিটা তাদের ওপর। তিনি বলেন, ‘আমরা কিন্তু তাদের ওপর কোনো রাজনৈতিক শর্ত চাপাইনি। সুপ্রতিবেশী হিসেবে করেছিলাম। আমরা চাইনি আমাদের কোনো প্রতিবেশী দেশের অর্থনীতি ধ্বংস হয়ে যাক।’ জয়শঙ্কর বলেন, সে দেশের রাজনীতিতে যা ঘটেছে, তার রাজনৈতিক মোকাবিলা তাদেরই করতে হবে।\n"
          ]
        }
      ]
    },
    {
      "cell_type": "markdown",
      "source": [
        "Step 2: Preprocess the text"
      ],
      "metadata": {
        "id": "As4qPqlt_wxr"
      }
    },
    {
      "cell_type": "code",
      "source": [
        "preprocessed_text = preprocess_text(article_text)\n",
        "print(\"\\nPreprocessed Article Text:\\n\", preprocessed_text)"
      ],
      "metadata": {
        "colab": {
          "base_uri": "https://localhost:8080/"
        },
        "id": "jNwo8sB5_1eD",
        "outputId": "38def2e5-898e-40c1-ce43-ee264030c211"
      },
      "execution_count": null,
      "outputs": [
        {
          "output_type": "stream",
          "name": "stdout",
          "text": [
            "\n",
            "Preprocessed Article Text:\n",
            " বাংলাদেশ ও শ্রীলঙ্কার সঙ্গে ভারতের সম্পর্ক ‘ ইতিবাচক ও গঠনমূলকই ’ থাকবে। এই সম্পর্ক নিয়ে আগে থেকে কিছু ভেবে নেওয়া ঠিক হবে না। তেমন ভাবনা কারও ভাবা উচিত নয় বলে মন্তব্য করেছেন ভারতের পররাষ্ট্রমন্ত্রী এস জয়শঙ্কর। নিউইয়র্কে স্থানীয় সময় গতকাল মঙ্গলবার এক অনুষ্ঠানের পর সাংবাদিকদের সঙ্গে কথা আলাপচারিতায় এই অভিমত ব্যক্ত করেন জয়শঙ্কর। তিনি বলেন ‘ সম্পর্ক নিয়ে আগাম কোনো ধারণায় উপনীত না হওয়ার অনুরোধ আমি সবাইকে করব। বিষয়টা এমন নয় যে ভারত তার সব প্রতিবেশী দেশের রাজনীতি নিয়ন্ত্রণ করতে চাইছে। এভাবে চলেও না। এমনটা হয়ও না। এটা শুধু আমাদের ভারত নয় সবার জন্য সমান সত্য। ’ এশিয়াটিক সোসাইটি ও নিউইয়র্কের এশিয়া সোসাইটি পলিসি ইনস্টিটিউট গতকাল ‘ ইন্ডিয়া এশিয়া অ্যান্ড দ্য ওয়ার্ল্ড ’ নামে এক আলোচনা সভার আয়োজন করে। সেখানে অংশ নেন এস জয়শঙ্কর। ভারতীয় সংবাদমাধ্যম পিটিআইয়ের তথ্য অনুযায়ী জয়শঙ্কর সাংবাদিকদের সঙ্গে কথাও বলেন সেখানেই। জয়শঙ্করকে একজন বলেন বাংলাদেশ ও শ্রীলঙ্কাকে ভারত শর্তহীন সাহায্য করেছে। ঋণ দিয়েছে। কিন্তু সেখানকার নতুন পরিবর্তিত সরকার মনে হচ্ছে ভারতবিরোধী। এর জবাবে ভারতের পররাষ্ট্রমন্ত্রী বলেন ‘ দিনের শেষে প্রতিটি প্রতিবেশীই তার নিজস্ব গতিতে নিজস্ব চিন্তাধারায় চলবে। আমরা তাদের বলব না যে তোমাদের প্রবাহ আমাদের পছন্দ অনুযায়ী হোক। তেমন বলা আমাদের ইচ্ছাও নয়। আজকের দুনিয়ায় এটাই সত্য। প্রতিটি দেশই নিজের পছন্দ অনুযায়ী নীতি ঠিক করে। অন্যদের সেই মতো বোঝাপড়া করতে হয়। সেইভাবে এগোতে হয়। ’ এ প্রসঙ্গেই বাংলাদেশের সাম্প্রতিক ঘটনাবলির কথা ওঠে। জয়শঙ্কর বলেন ‘ অন্যদের থেকে বাংলাদেশের বিষয়টি একটু আলাদা। এক দশক ধরে আমরা ওই দেশে বহু প্রকল্প হাতে নিয়েছি। সেসব প্রকল্প দুই দেশের পক্ষেই মঙ্গলজনক ও ফলদায়ী। তাতে অর্থনীতি চাঙা হয়েছে। অবকাঠামোরও উন্নতি হয়েছে। ’ জয়শঙ্কর এ কথা বলেন বাংলাদেশের অন্তর্বর্তীকালীন সরকারের পররাষ্ট্র উপদেষ্টা তৌহিদ হোসেনের সঙ্গে প্রথম বৈঠকের পর। বাংলাদেশ ও ভারতের কূটনৈতিক সূত্রগুলো ওই বৈঠককে কার্যকর ইতিবাচক ও গঠনমূলক হিসেবে বর্ণনা করেছে। জয়শঙ্কর বলেন প্রতিটি দেশের নিজের একটা গতি থাকে। পছন্দ থাকে প্রয়োজন থাকে। নিজস্ব ‘ ডায়নামিকস ’ থাকে। কূটনীতিতে তা বুঝতে ও শিখতে হয় এবং সেই মতো সাড়া দিতে হয়। তিনি বলেন ‘ আমার দৃঢ় বিশ্বাস দিনের শেষে পারস্পরিক নির্ভরতা একে অন্যের সঙ্গে হাত ধরাধরি করে থাকা পারস্পরিক উপকারের বাস্তবিকতা আমরা প্রতিবেশীরা সবাই উপলব্ধি করতে পারব। এতেই সবার স্বার্থ নিহিত। বাস্তবিকতাই সম্পর্কের গতি প্রকৃতি ঠিক করে দেয়। ইতিহাসের শিক্ষা তেমনই। ’ পররাষ্ট্রমন্ত্রী জয়শঙ্কর বলেন ‘ কয়েক বছর অন্তর আমাদের এই অঞ্চলে কিছু না কিছু ঘটে থাকে। তখন মনে হয় যা–ই ঘটছে তা অলঙ্ঘনীয়। অথচ দেখা যায় পরিবর্তন এল। শোধরানোর পালা শুরু হলো। নতুন কিছু ঘটল। এই আলোতেই আমি বর্তমান ঘটনাবলি দেখি। আমি দৃঢ় নিশ্চিত দুই ক্ষেত্রেই বাংলাদেশ ও শ্রীলঙ্কা আমাদের সম্পর্ক এগিয়ে যাবে ইতিবাচক ও গঠনমূলকভাবে। ’ শ্রীলঙ্কা প্রসঙ্গে জয়শঙ্কর বলেন তীব্র অর্থনৈতিক সংকটের সময় কেউ যখন এগোয়নি তখন ভারত এগিয়ে গিয়েছিল। সাড়ে চার বিলিয়ন ডলার সাহায্য করেছিল অর্থনীতি স্থিতিশীল করতে। বাকিটা তাদের ওপর। তিনি বলেন ‘ আমরা কিন্তু তাদের ওপর কোনো রাজনৈতিক শর্ত চাপাইনি। সুপ্রতিবেশী হিসেবে করেছিলাম। আমরা চাইনি আমাদের কোনো প্রতিবেশী দেশের অর্থনীতি ধ্বংস হয়ে যাক। ’ জয়শঙ্কর বলেন সে দেশের রাজনীতিতে যা ঘটেছে তার রাজনৈতিক মোকাবিলা তাদেরই করতে হবে।\n"
          ]
        }
      ]
    },
    {
      "cell_type": "markdown",
      "source": [
        "Step 3: Summarize the text"
      ],
      "metadata": {
        "id": "4xeTIuFp_57q"
      }
    },
    {
      "cell_type": "code",
      "source": [
        "summary = summarize_text(preprocessed_text)\n",
        "print(\"\\nSummarized Text:\\n\", summary)"
      ],
      "metadata": {
        "colab": {
          "base_uri": "https://localhost:8080/",
          "height": 159
        },
        "collapsed": true,
        "id": "h0ONzG-fAxMC",
        "outputId": "3831431e-f33a-412a-90e3-46dde2de6ccb"
      },
      "execution_count": null,
      "outputs": [
        {
          "output_type": "error",
          "ename": "NameError",
          "evalue": "name 'summarize_text' is not defined",
          "traceback": [
            "\u001b[0;31m---------------------------------------------------------------------------\u001b[0m",
            "\u001b[0;31mNameError\u001b[0m                                 Traceback (most recent call last)",
            "\u001b[0;32m<ipython-input-1-8b255d22f6ac>\u001b[0m in \u001b[0;36m<cell line: 1>\u001b[0;34m()\u001b[0m\n\u001b[0;32m----> 1\u001b[0;31m \u001b[0msummary\u001b[0m \u001b[0;34m=\u001b[0m \u001b[0msummarize_text\u001b[0m\u001b[0;34m(\u001b[0m\u001b[0mpreprocessed_text\u001b[0m\u001b[0;34m)\u001b[0m\u001b[0;34m\u001b[0m\u001b[0;34m\u001b[0m\u001b[0m\n\u001b[0m\u001b[1;32m      2\u001b[0m \u001b[0mprint\u001b[0m\u001b[0;34m(\u001b[0m\u001b[0;34m\"\\nSummarized Text:\\n\"\u001b[0m\u001b[0;34m,\u001b[0m \u001b[0msummary\u001b[0m\u001b[0;34m)\u001b[0m\u001b[0;34m\u001b[0m\u001b[0;34m\u001b[0m\u001b[0m\n",
            "\u001b[0;31mNameError\u001b[0m: name 'summarize_text' is not defined"
          ]
        }
      ]
    },
    {
      "cell_type": "markdown",
      "source": [
        "Step 4: Preform sentiment analysis"
      ],
      "metadata": {
        "id": "ACYRpmcOBHAK"
      }
    },
    {
      "cell_type": "code",
      "source": [
        "sentiment = sentiment_analysis(preprocessed_text)\n",
        "print(\"\\nSentiment Analysis:\\n\", sentiment)"
      ],
      "metadata": {
        "colab": {
          "base_uri": "https://localhost:8080/",
          "height": 287,
          "referenced_widgets": [
            "0797195b9e8a419d8f4e1f1594661f98",
            "ca5ee8abf485411b8ebbc1d38790a442",
            "64c9053a96bc47a09e9fbc8e05ba8b79",
            "041b74987fe2415aa2523f8911a6834e",
            "7dfb71f4113541428831513c0a461ae8",
            "836cc209625e43179466813a16d35249",
            "9c1d88903047433e8dadf685e656dc70",
            "61eed0a8edb7419b8a85aca581db6b61",
            "bce0feff585e49eb866c11cd81e6a7a0",
            "15d03512b6744ff393e9fb8c5304cb1b",
            "937cb25583bd4cb4bfd585dd76d2da90",
            "c7e91ae1e85e48e5b3ea908e09af21dd",
            "549ee66260854ae8852b848384ebd34a",
            "fa7536f5b3ac422fae4d2a3372ec6f7a",
            "3292680c136c4f70b079bc32759a58f2",
            "97bc028740f049f894a356395a574824",
            "b8a7869093b046db8d0730b7778489dc",
            "3a43fc596bea45119ddc9618c1504b1d",
            "2b263549f8044a53b6a2176bffc27330",
            "bd16598983604ae1977c757a327afd57",
            "ce171b23e9aa47fab77ec8e5577b5380",
            "1a7fe05d23384108b612dcc85d8f0463",
            "a792cd26abae41c9b76396c075196c2a",
            "05aa2e3f6c1d4c6eacab0f534efd4701",
            "048603f8d44745908ccc7f4f0c3bae25",
            "c3905596e01c4e90b4b9a41dae130a3e",
            "43076bdbdb9b449e8c3a575d019dda6d",
            "dc5f276660d74cb2855d2a92e419e22e",
            "fff8d604c7f44a2d8dd25f60d2c51985",
            "f4930503b1a44a9a96afefb470926932",
            "11fa7582007842179b8a03c3248524e4",
            "9528bdc7c6ab4d79bbb70afb15e4ae73",
            "6c97ce3f1b2a4f4fa171c457448cd1b8",
            "f0a357e227354c5198d2515a84f1aaaf",
            "e33098a57147487290e953ba3cb31a24",
            "aa21d4cf8a1d4449998c6738c6cb1eba",
            "fd50879ee122411e9ba439175c709da9",
            "79d7faa59d314abd96a321d9554c811c",
            "efc57c3bbd9d4a619e5b9936ce771891",
            "4b458da745e04322a7ad5a7dcc988d78",
            "e5b9b24de1584bcbafed89fe070e119a",
            "93a5c5d5af434a13966dcf51daa5fbf7",
            "e3543d4bb2354a2a8c1c7dc7fb4b200a",
            "46eeae7ebd4b4b95a3cc617093176f03"
          ]
        },
        "id": "6OQRZqA_BKUq",
        "outputId": "15e20e60-7d64-4d6e-dace-43ee7b87a74f"
      },
      "execution_count": null,
      "outputs": [
        {
          "output_type": "stream",
          "name": "stderr",
          "text": [
            "No model was supplied, defaulted to distilbert/distilbert-base-uncased-finetuned-sst-2-english and revision af0f99b (https://huggingface.co/distilbert/distilbert-base-uncased-finetuned-sst-2-english).\n",
            "Using a pipeline without specifying a model name and revision in production is not recommended.\n"
          ]
        },
        {
          "output_type": "display_data",
          "data": {
            "text/plain": [
              "config.json:   0%|          | 0.00/629 [00:00<?, ?B/s]"
            ],
            "application/vnd.jupyter.widget-view+json": {
              "version_major": 2,
              "version_minor": 0,
              "model_id": "0797195b9e8a419d8f4e1f1594661f98"
            }
          },
          "metadata": {}
        },
        {
          "output_type": "display_data",
          "data": {
            "text/plain": [
              "model.safetensors:   0%|          | 0.00/268M [00:00<?, ?B/s]"
            ],
            "application/vnd.jupyter.widget-view+json": {
              "version_major": 2,
              "version_minor": 0,
              "model_id": "c7e91ae1e85e48e5b3ea908e09af21dd"
            }
          },
          "metadata": {}
        },
        {
          "output_type": "display_data",
          "data": {
            "text/plain": [
              "tokenizer_config.json:   0%|          | 0.00/48.0 [00:00<?, ?B/s]"
            ],
            "application/vnd.jupyter.widget-view+json": {
              "version_major": 2,
              "version_minor": 0,
              "model_id": "a792cd26abae41c9b76396c075196c2a"
            }
          },
          "metadata": {}
        },
        {
          "output_type": "display_data",
          "data": {
            "text/plain": [
              "vocab.txt:   0%|          | 0.00/232k [00:00<?, ?B/s]"
            ],
            "application/vnd.jupyter.widget-view+json": {
              "version_major": 2,
              "version_minor": 0,
              "model_id": "f0a357e227354c5198d2515a84f1aaaf"
            }
          },
          "metadata": {}
        },
        {
          "output_type": "stream",
          "name": "stderr",
          "text": [
            "/usr/local/lib/python3.10/dist-packages/transformers/tokenization_utils_base.py:1601: FutureWarning: `clean_up_tokenization_spaces` was not set. It will be set to `True` by default. This behavior will be depracted in transformers v4.45, and will be then set to `False` by default. For more details check this issue: https://github.com/huggingface/transformers/issues/31884\n",
            "  warnings.warn(\n"
          ]
        },
        {
          "output_type": "stream",
          "name": "stdout",
          "text": [
            "\n",
            "Sentiment Analysis:\n",
            " [{'label': 'NEGATIVE', 'score': 0.7676938772201538}]\n"
          ]
        }
      ]
    }
  ]
}